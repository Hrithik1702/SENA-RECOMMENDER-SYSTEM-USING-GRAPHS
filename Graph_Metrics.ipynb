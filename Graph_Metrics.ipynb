{
  "nbformat": 4,
  "nbformat_minor": 0,
  "metadata": {
    "colab": {
      "provenance": []
    },
    "kernelspec": {
      "name": "python3",
      "display_name": "Python 3"
    },
    "language_info": {
      "name": "python"
    }
  },
  "cells": [
    {
      "cell_type": "code",
      "execution_count": null,
      "metadata": {
        "id": "ebvKK5TmZgOv"
      },
      "outputs": [],
      "source": [
        "import networkx as nx"
      ]
    },
    {
      "cell_type": "code",
      "source": [
        "def generate_network(path):\n",
        "    graph = {}\n",
        "    m=0\n",
        "    f = open(path,'r+')\n",
        "    lines = f.readlines()\n",
        "    for line in lines:\n",
        "        t = line.split()\n",
        "        u = t[0]\n",
        "        i = t[1]\n",
        "        graph[u] = graph.get(u,[])+[i]\n",
        "    G = nx.DiGraph(graph)\n",
        "    return G"
      ],
      "metadata": {
        "id": "Y8n4HRC3Zrvg"
      },
      "execution_count": null,
      "outputs": []
    },
    {
      "cell_type": "code",
      "source": [
        "import numpy as np\n",
        "def GetGraphMetrics(graph):\n",
        "    \n",
        "    graph_degree = dict(graph.degree)\n",
        "    print(\"Graph Summary:\")\n",
        "    print(f\"Number of nodes : {len(graph.nodes)}\")\n",
        "    print(f\"Number of edges : {len(graph.edges)}\")\n",
        "    print(f\"Maximum degree : {np.max(list(graph_degree.values()))}\")\n",
        "    print(f\"Minimum degree : {np.min(list(graph_degree.values()))}\")\n",
        "    print(f\"Average degree : {np.mean(list(graph_degree.values()))}\")\n",
        "    print(f\"Median degree : {np.median(list(graph_degree.values()))}\")\n",
        "    print(\"\")\n",
        "    print(\"Graph Connectivity\")\n",
        "    try:\n",
        "        print(f\"Strongly Connected Components : {nx.number_strongly_connected_components(graph)}\")\n",
        "        print(f\"Weakly Connected Components : {nx.number_weakly_connected_components(graph)}\")\n",
        "    except:\n",
        "        print(f\"Connected Components : {nx.number_connected_components(graph)}\")\n",
        "    print(\"\")\n",
        "    print(\"Graph Distance\")\n",
        "    try:\n",
        "      print(f\"Average Distance : {nx.average_shortest_path_length(graph)}\")\n",
        "    except:\n",
        "      print(f\"Average Distance : Graph Contains Disconntecd Components\")\n",
        "    try:\n",
        "      print(f\"Diameter : {nx.algorithms.distance_measures.diameter(graph)}\")\n",
        "    except:\n",
        "      print(f\"Diameter : Graph Contains Disconntecd Components\")\n",
        "    print(\"\")\n",
        "    print(\"Graph Clustering\")\n",
        "    print(f\"Transitivity : {nx.transitivity(graph)}\")\n",
        "    print(f\"Average Clustering Coefficient : {nx.average_clustering(graph)}\")\n",
        "    \n",
        "    \n",
        "    return None"
      ],
      "metadata": {
        "id": "HMl8G9tDZ-Wi"
      },
      "execution_count": null,
      "outputs": []
    },
    {
      "cell_type": "markdown",
      "source": [
        "### **Metrics For FilmTrust Dataset**"
      ],
      "metadata": {
        "id": "4_OBNUnaXj_7"
      }
    },
    {
      "cell_type": "code",
      "source": [
        "G = generate_network('/content/trust.txt')\n",
        "GetGraphMetrics(G)"
      ],
      "metadata": {
        "colab": {
          "base_uri": "https://localhost:8080/"
        },
        "id": "gOETCrYBaEMS",
        "outputId": "bf19cda2-503a-4144-f241-93a47e5db498"
      },
      "execution_count": null,
      "outputs": [
        {
          "output_type": "stream",
          "name": "stdout",
          "text": [
            "Graph Summary:\n",
            "Number of nodes : 874\n",
            "Number of edges : 1853\n",
            "Maximum degree : 118\n",
            "Minimum degree : 1\n",
            "Average degree : 4.240274599542334\n",
            "Median degree : 2.0\n",
            "\n",
            "Graph Connectivity\n",
            "Strongly Connected Components : 501\n",
            "Weakly Connected Components : 95\n",
            "\n",
            "Graph Distance\n",
            "Average Distance : Graph Contains Disconntecd Components\n",
            "Diameter : Graph Contains Disconntecd Components\n",
            "\n",
            "Graph Clustering\n",
            "Transitivity : 0.17192143687814962\n",
            "Average Clustering Coefficient : 0.1354270446924923\n"
          ]
        }
      ]
    },
    {
      "cell_type": "markdown",
      "source": [
        "### **Metrics For Epinions Dataset**"
      ],
      "metadata": {
        "id": "NfR7D1HDXx2O"
      }
    },
    {
      "cell_type": "code",
      "source": [
        "G = generate_network('/content/trust-epinions.txt')\n",
        "GetGraphMetrics(G)"
      ],
      "metadata": {
        "colab": {
          "base_uri": "https://localhost:8080/"
        },
        "id": "ynHOdpIV3erQ",
        "outputId": "e6f0a4cf-6634-4153-e035-34e27a505581"
      },
      "execution_count": null,
      "outputs": [
        {
          "output_type": "stream",
          "name": "stdout",
          "text": [
            "Graph Summary:\n",
            "Number of nodes : 18098\n",
            "Number of edges : 355727\n",
            "Maximum degree : 2056\n",
            "Minimum degree : 1\n",
            "Average degree : 39.31119460713891\n",
            "Median degree : 9.0\n",
            "\n",
            "Graph Connectivity\n",
            "Strongly Connected Components : 5205\n",
            "Weakly Connected Components : 69\n",
            "\n",
            "Graph Distance\n",
            "Average Distance : Graph Contains Disconntecd Components\n",
            "Diameter : Graph Contains Disconntecd Components\n",
            "\n",
            "Graph Clustering\n",
            "Transitivity : 0.121740032505204\n",
            "Average Clustering Coefficient : 0.13327268530531722\n"
          ]
        }
      ]
    },
    {
      "cell_type": "markdown",
      "source": [
        "### **Metrics For Ciao Dataset**"
      ],
      "metadata": {
        "id": "3NrOFroUYCih"
      }
    },
    {
      "cell_type": "code",
      "source": [
        "import scipy.io\n",
        "import numpy as np\n",
        "data = scipy.io.loadmat(\"/content/trust-ciao.mat\")\n",
        "\n",
        "for i in data:\n",
        "  if '__' not in i and 'readme' not in i:\n",
        "    np.savetxt((\"trust-ciao.txt\"),data[i],delimiter=' ')"
      ],
      "metadata": {
        "id": "aVVt2jFO3PRx"
      },
      "execution_count": null,
      "outputs": []
    },
    {
      "cell_type": "code",
      "source": [
        "G = generate_network('/content/trust-ciao.txt')\n",
        "GetGraphMetrics(G)"
      ],
      "metadata": {
        "colab": {
          "base_uri": "https://localhost:8080/"
        },
        "id": "cyQ0MoxY4YpJ",
        "outputId": "ebc3320e-eba2-49ac-f964-5b34b23a44a5"
      },
      "execution_count": null,
      "outputs": [
        {
          "output_type": "stream",
          "name": "stdout",
          "text": [
            "Graph Summary:\n",
            "Number of nodes : 2342\n",
            "Number of edges : 57544\n",
            "Maximum degree : 510\n",
            "Minimum degree : 1\n",
            "Average degree : 49.140905209222886\n",
            "Median degree : 27.0\n",
            "\n",
            "Graph Connectivity\n",
            "Strongly Connected Components : 180\n",
            "Weakly Connected Components : 1\n",
            "\n",
            "Graph Distance\n",
            "Average Distance : 3.10201852325402\n",
            "Diameter : Graph Contains Disconntecd Components\n",
            "\n",
            "Graph Clustering\n",
            "Transitivity : 0.10535452926082693\n",
            "Average Clustering Coefficient : 0.16670677464963662\n"
          ]
        }
      ]
    },
    {
      "cell_type": "code",
      "source": [
        "def no_of_nodes(path):\n",
        "  m=0\n",
        "  f = open(path,'r+')\n",
        "  lines = f.readlines()\n",
        "  d={}\n",
        "  for line in lines:\n",
        "        t = line.split()\n",
        "        u = t[0]\n",
        "        i = t[1]\n",
        "        d[u]=1\n",
        "        d[i]=1\n",
        "  return len(d.keys())"
      ],
      "metadata": {
        "id": "ARLnewdU4uMn"
      },
      "execution_count": null,
      "outputs": []
    },
    {
      "cell_type": "code",
      "source": [
        "no_of_nodes('trust.txt')"
      ],
      "metadata": {
        "colab": {
          "base_uri": "https://localhost:8080/"
        },
        "id": "KQWi7PWD49ev",
        "outputId": "cad9469e-f42c-45d9-c56f-059332de7c9a"
      },
      "execution_count": null,
      "outputs": [
        {
          "output_type": "execute_result",
          "data": {
            "text/plain": [
              "874"
            ]
          },
          "metadata": {},
          "execution_count": 22
        }
      ]
    },
    {
      "cell_type": "code",
      "source": [
        "no_of_nodes('trust-ciao.txt')"
      ],
      "metadata": {
        "id": "GzYACZBL5Cxf",
        "outputId": "5140782c-6c29-4431-c3bb-5a42b16c0019",
        "colab": {
          "base_uri": "https://localhost:8080/"
        }
      },
      "execution_count": null,
      "outputs": [
        {
          "output_type": "execute_result",
          "data": {
            "text/plain": [
              "2342"
            ]
          },
          "metadata": {},
          "execution_count": 23
        }
      ]
    },
    {
      "cell_type": "code",
      "source": [
        "no_of_nodes('trust-epinions.txt')"
      ],
      "metadata": {
        "id": "0yLM2E5a5Hjc",
        "outputId": "142cb504-db67-4723-a883-c2433f473f30",
        "colab": {
          "base_uri": "https://localhost:8080/"
        }
      },
      "execution_count": null,
      "outputs": [
        {
          "output_type": "execute_result",
          "data": {
            "text/plain": [
              "18098"
            ]
          },
          "metadata": {},
          "execution_count": 24
        }
      ]
    }
  ]
}